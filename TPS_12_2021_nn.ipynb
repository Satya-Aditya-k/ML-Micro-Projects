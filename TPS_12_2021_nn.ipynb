{
 "cells": [
  {
   "cell_type": "markdown",
   "id": "59e3f8ab",
   "metadata": {},
   "source": [
    "# Tabular Playground Series 12-2021\n",
    "\n",
    "<br />\n",
    "\n",
    "\n",
    "<br />\n",
    "\n",
    "*In this notebook we work on the **Tabular Playground Series 12-2021** dataset available on kaggle which deals with the prediction of the forest cover type based on different features and build a NN model using the **tensorflow** module*\n"
   ]
  },
  {
   "cell_type": "code",
   "execution_count": 12,
   "id": "041ba8ea",
   "metadata": {},
   "outputs": [],
   "source": [
    "import numpy as np\n",
    "import pandas as pd\n",
    "import matplotlib.pyplot as plt\n",
    "import tensorflow as tf\n",
    "from sklearn.model_selection import train_test_split\n",
    "from sklearn.preprocessing import StandardScaler"
   ]
  },
  {
   "cell_type": "code",
   "execution_count": 13,
   "id": "85268ede",
   "metadata": {},
   "outputs": [],
   "source": [
    "train = pd.read_csv(r'C:\\Users\\adity\\Github\\datasets\\TPS_12_2021\\train.csv')\n",
    "test = pd.read_csv(r'C:\\Users\\adity\\Github\\datasets\\TPS_12_2021\\test.csv')"
   ]
  },
  {
   "cell_type": "code",
   "execution_count": 14,
   "id": "bd50a915",
   "metadata": {},
   "outputs": [
    {
     "data": {
      "text/plain": [
       "(4000000, 56)"
      ]
     },
     "execution_count": 14,
     "metadata": {},
     "output_type": "execute_result"
    }
   ],
   "source": [
    "train.shape"
   ]
  },
  {
   "cell_type": "markdown",
   "id": "0b0ca193",
   "metadata": {},
   "source": [
    "*From above we can see that the dataset is huge, we convert the datatype of columns using the function that I borrowed from Kaggle so that the computation becomes easier*"
   ]
  },
  {
   "cell_type": "code",
   "execution_count": 15,
   "id": "c1cdde34",
   "metadata": {},
   "outputs": [],
   "source": [
    "def reduce_memory_usage(df, verbose=True):\n",
    "    numerics = [\"int8\", \"int16\", \"int32\", \"int64\", \"float16\", \"float32\", \"float64\"]\n",
    "    start_mem = df.memory_usage().sum() / 1024 ** 2\n",
    "    for col in df.columns:\n",
    "        col_type = df[col].dtypes\n",
    "        if col_type in numerics:\n",
    "            c_min = df[col].min()\n",
    "            c_max = df[col].max()\n",
    "            if str(col_type)[:3] == \"int\":\n",
    "                if c_min > np.iinfo(np.int8).min and c_max < np.iinfo(np.int8).max:\n",
    "                    df[col] = df[col].astype(np.int8)\n",
    "                elif c_min > np.iinfo(np.int16).min and c_max < np.iinfo(np.int16).max:\n",
    "                    df[col] = df[col].astype(np.int16)\n",
    "                elif c_min > np.iinfo(np.int32).min and c_max < np.iinfo(np.int32).max:\n",
    "                    df[col] = df[col].astype(np.int32)\n",
    "                elif c_min > np.iinfo(np.int64).min and c_max < np.iinfo(np.int64).max:\n",
    "                    df[col] = df[col].astype(np.int64)\n",
    "            else:\n",
    "                if (\n",
    "                    c_min > np.finfo(np.float16).min\n",
    "                    and c_max < np.finfo(np.float16).max\n",
    "                ):\n",
    "                    df[col] = df[col].astype(np.float16)\n",
    "                elif (\n",
    "                    c_min > np.finfo(np.float32).min\n",
    "                    and c_max < np.finfo(np.float32).max\n",
    "                ):\n",
    "                    df[col] = df[col].astype(np.float32)\n",
    "                else:\n",
    "                    df[col] = df[col].astype(np.float64)\n",
    "    end_mem = df.memory_usage().sum() / 1024 ** 2\n",
    "    \n",
    "    if verbose:\n",
    "        print(\n",
    "            \"Mem. usage decreased to {:.2f} Mb ({:.1f}% reduction)\".format(\n",
    "                end_mem, 100 * (start_mem - end_mem) / start_mem\n",
    "            )\n",
    "        )\n",
    "    return df"
   ]
  },
  {
   "cell_type": "code",
   "execution_count": 16,
   "id": "268829a1",
   "metadata": {},
   "outputs": [
    {
     "name": "stdout",
     "output_type": "stream",
     "text": [
      "Mem. usage decreased to 259.40 Mb (84.8% reduction)\n",
      "Mem. usage decreased to 63.90 Mb (84.8% reduction)\n",
      "Memory reduced\n"
     ]
    }
   ],
   "source": [
    "train_df = reduce_memory_usage(train, verbose=True)\n",
    "test_df = reduce_memory_usage(test, verbose=True)\n",
    "print('Memory reduced')"
   ]
  },
  {
   "cell_type": "markdown",
   "id": "56f7be25",
   "metadata": {},
   "source": [
    "*We can see that the mem.usage is decreased by more than 80%*"
   ]
  },
  {
   "cell_type": "markdown",
   "id": "e328c97c",
   "metadata": {},
   "source": [
    "*We do some feature engineering by scaling our datasets so that we can pass them on to the neural network*"
   ]
  },
  {
   "cell_type": "code",
   "execution_count": 17,
   "id": "dcf8fe21",
   "metadata": {},
   "outputs": [],
   "source": [
    "def feature_engineering(df):\n",
    "    df['Id'].drop(columns=['Id'],inplace=True)\n",
    "    \n",
    "    if 'Cover_Type' in df.columns:\n",
    "        df.drop(columns=['Cover_Type'],inplace=True)\n",
    "    scaler = StandardScaler()\n",
    "    df_scaled = scaler.fit_transform(df)\n",
    "    \n",
    "    return df_scaled"
   ]
  },
  {
   "cell_type": "code",
   "execution_count": 18,
   "id": "a16e556d",
   "metadata": {},
   "outputs": [],
   "source": [
    "y = train_df['Cover_Type']\n",
    "test_ids = test_df['Id']\n",
    "X = feature_engineering(train_df)\n",
    "test = feature_engineering(test_df)"
   ]
  },
  {
   "cell_type": "markdown",
   "id": "7ac9e240",
   "metadata": {},
   "source": [
    "*We split our dataset of our data using **train_test_split()** to get the training set and validation dataset*"
   ]
  },
  {
   "cell_type": "code",
   "execution_count": 19,
   "id": "a9589462",
   "metadata": {},
   "outputs": [],
   "source": [
    "X_train,X_test,y_train,y_test = train_test_split(X,y,test_size=0.2,random_state=42)"
   ]
  },
  {
   "cell_type": "code",
   "execution_count": 20,
   "id": "3f526393",
   "metadata": {},
   "outputs": [
    {
     "data": {
      "text/plain": [
       "(3200000, 55)"
      ]
     },
     "execution_count": 20,
     "metadata": {},
     "output_type": "execute_result"
    }
   ],
   "source": [
    "X_train.shape"
   ]
  },
  {
   "cell_type": "markdown",
   "id": "7dfccd5f",
   "metadata": {},
   "source": [
    "*We build the tensorflow model based on the **keras.Sequential()** function*"
   ]
  },
  {
   "cell_type": "code",
   "execution_count": 28,
   "id": "6ece6d90",
   "metadata": {},
   "outputs": [],
   "source": [
    "from tensorflow import keras\n",
    "from tensorflow.keras import layers#, callbacks\n",
    "\n",
    "model = keras.Sequential([layers.Dense(500,activation='relu',input_shape=[X_train.shape[1]]),\n",
    "                                   layers.Dropout(0.2),\n",
    "                                   layers.Dense(300,activation='relu'),\n",
    "                                   layers.Dropout(0.2),\n",
    "                                   layers.Dense(8,activation='softmax')])"
   ]
  },
  {
   "cell_type": "markdown",
   "id": "880f0755",
   "metadata": {},
   "source": [
    "*We can see that the model has 3 layers and also with the dropout() function*"
   ]
  },
  {
   "cell_type": "code",
   "execution_count": 27,
   "id": "7013e6a9",
   "metadata": {},
   "outputs": [
    {
     "name": "stdout",
     "output_type": "stream",
     "text": [
      "Model: \"sequential\"\n",
      "_________________________________________________________________\n",
      "Layer (type)                 Output Shape              Param #   \n",
      "=================================================================\n",
      "dense (Dense)                (None, 500)               28000     \n",
      "_________________________________________________________________\n",
      "dropout (Dropout)            (None, 500)               0         \n",
      "_________________________________________________________________\n",
      "dense_1 (Dense)              (None, 300)               150300    \n",
      "_________________________________________________________________\n",
      "dropout_1 (Dropout)          (None, 300)               0         \n",
      "_________________________________________________________________\n",
      "dense_2 (Dense)              (None, 8)                 2408      \n",
      "=================================================================\n",
      "Total params: 180,708\n",
      "Trainable params: 180,708\n",
      "Non-trainable params: 0\n",
      "_________________________________________________________________\n"
     ]
    }
   ],
   "source": [
    "model.summary()"
   ]
  },
  {
   "cell_type": "markdown",
   "id": "187d17bf",
   "metadata": {},
   "source": [
    "*we compile the model using the optimizer **adam** and loss fn. is **sparse_categorical_crossentropy** and **accuracy** metrics* "
   ]
  },
  {
   "cell_type": "code",
   "execution_count": 22,
   "id": "f0fc126e",
   "metadata": {},
   "outputs": [],
   "source": [
    "model.compile(optimizer='adam',\n",
    "              loss='sparse_categorical_crossentropy',\n",
    "              metrics=['accuracy'])"
   ]
  },
  {
   "cell_type": "code",
   "execution_count": 23,
   "id": "927ae59c",
   "metadata": {},
   "outputs": [
    {
     "name": "stdout",
     "output_type": "stream",
     "text": [
      "Epoch 1/5\n",
      "100000/100000 [==============================] - 168s 2ms/step - loss: 0.1415 - accuracy: 0.9429\n",
      "Epoch 2/5\n",
      "100000/100000 [==============================] - 169s 2ms/step - loss: 0.1256 - accuracy: 0.9490\n",
      "Epoch 3/5\n",
      "100000/100000 [==============================] - 172s 2ms/step - loss: 0.1250 - accuracy: 0.9501\n",
      "Epoch 4/5\n",
      "100000/100000 [==============================] - 183s 2ms/step - loss: 0.1244 - accuracy: 0.9504\n",
      "Epoch 5/5\n",
      "100000/100000 [==============================] - 182s 2ms/step - loss: 0.1270 - accuracy: 0.9504\n"
     ]
    },
    {
     "data": {
      "text/plain": [
       "<tensorflow.python.keras.callbacks.History at 0x1ad29385d90>"
      ]
     },
     "execution_count": 23,
     "metadata": {},
     "output_type": "execute_result"
    }
   ],
   "source": [
    "model.fit(X_train,y_train,epochs=5)"
   ]
  },
  {
   "cell_type": "code",
   "execution_count": 24,
   "id": "66dafc0b",
   "metadata": {},
   "outputs": [
    {
     "name": "stdout",
     "output_type": "stream",
     "text": [
      "25000/25000 [==============================] - 16s 637us/step - loss: 0.1055 - accuracy: 0.9550\n"
     ]
    },
    {
     "data": {
      "text/plain": [
       "[0.10546988993883133, 0.9550300240516663]"
      ]
     },
     "execution_count": 24,
     "metadata": {},
     "output_type": "execute_result"
    }
   ],
   "source": [
    "model.evaluate(X_test,y_test)"
   ]
  },
  {
   "cell_type": "code",
   "execution_count": 25,
   "id": "2842afc5",
   "metadata": {},
   "outputs": [],
   "source": [
    "y_predict = model.predict(test)\n",
    "pred_y = np.argmax(y_predict, axis=1)"
   ]
  },
  {
   "cell_type": "code",
   "execution_count": 26,
   "id": "f2f51c76",
   "metadata": {},
   "outputs": [],
   "source": [
    "a = np.column_stack([test_ids.astype(np.int32),pred_y])\n",
    "df_csv = pd.DataFrame(a,columns=['Id','Cover_Type'])\n",
    "df_csv[\"Id\"] = df_csv[\"Id\"].astype(int)\n",
    "df_csv.to_csv('tps_12_2021.csv',index=False)"
   ]
  },
  {
   "cell_type": "markdown",
   "id": "f2786ae2",
   "metadata": {},
   "source": [
    "*After uploading the dataset to Kaggle we get the score of .93819*"
   ]
  }
 ],
 "metadata": {
  "kernelspec": {
   "display_name": "Python 3",
   "language": "python",
   "name": "python3"
  },
  "language_info": {
   "codemirror_mode": {
    "name": "ipython",
    "version": 3
   },
   "file_extension": ".py",
   "mimetype": "text/x-python",
   "name": "python",
   "nbconvert_exporter": "python",
   "pygments_lexer": "ipython3",
   "version": "3.8.8"
  }
 },
 "nbformat": 4,
 "nbformat_minor": 5
}
